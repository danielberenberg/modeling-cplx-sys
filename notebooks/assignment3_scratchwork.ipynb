{
 "cells": [
  {
   "cell_type": "markdown",
   "metadata": {},
   "source": [
    "# Assignment 3\n",
    "___ \n",
    "We'd like to study how __introducing bicycles to a traffic system__ changes the behavior of randomly behaving drivers.\n",
    "___\n",
    "We'll model this with _4 flavors_ of cells:\n",
    "1. Car $C$\n",
    "2. Bike $B$\n",
    "3. Empty road $R$\n",
    "4. Intersection $I$\n",
    "___\n",
    "The rules associated with each cell are:\n",
    "1. Cars can move forward $c$ steps where $c \\in [0,k]$ and there are $c$ cells marked $R$ in front of the car.\n",
    "2. Bikes move forward $b$ steps per timestep if the next $b$ cells are marked $R$.\n",
    "3. If the cell in front of a car/bike is an $I$ cell, you stall for $s$ timesteps where $s=N_{C}(I) + bN_{B}(I)$ if $b<2$ else $s=N_{C}(I) + N_{B}(I)$ adjacent to $I$ on arrival.\n",
    "4. At an intersection, $C$ and $B$ choose their next direction with probability $p=\\frac{1}{\\ell -1}$ where $\\ell$ is the number of roads feeding into the intersection.\n",
    "5. On a two lane road a $C$ may pass a $B$ if there are $2c$ cells empty in the oncoming lane and $2b$ empty cells in front of the $B$."
   ]
  },
  {
   "cell_type": "code",
   "execution_count": 18,
   "metadata": {
    "collapsed": true
   },
   "outputs": [],
   "source": [
    "import numpy as np\n",
    "import matplotlib.pyplot as plt"
   ]
  },
  {
   "cell_type": "code",
   "execution_count": 2,
   "metadata": {
    "collapsed": true
   },
   "outputs": [],
   "source": [
    "cell_types = [1,2,3,4]\n",
    "type2name = {1:\"R\", 2:\"C\", 3:\"B\", 4:\"I\"}"
   ]
  },
  {
   "cell_type": "code",
   "execution_count": 65,
   "metadata": {},
   "outputs": [
    {
     "name": "stdout",
     "output_type": "stream",
     "text": [
      "[[0. 0. 0. 0. 1. 1. 0. 0. 0. 0.]\n",
      " [0. 0. 0. 0. 1. 1. 0. 0. 0. 0.]\n",
      " [0. 0. 0. 0. 1. 1. 0. 0. 0. 0.]\n",
      " [0. 0. 0. 0. 1. 1. 0. 0. 0. 0.]\n",
      " [1. 1. 1. 1. 1. 1. 1. 1. 1. 1.]\n",
      " [2. 1. 1. 1. 1. 1. 1. 1. 1. 1.]\n",
      " [0. 0. 0. 0. 1. 1. 0. 0. 0. 0.]\n",
      " [0. 0. 0. 0. 1. 1. 0. 0. 0. 0.]\n",
      " [0. 0. 0. 0. 1. 1. 0. 0. 0. 0.]\n",
      " [0. 0. 0. 0. 1. 1. 0. 0. 0. 0.]]\n"
     ]
    }
   ],
   "source": [
    "dim = 10\n",
    "system = np.zeros((dim,dim))\n",
    "system[:,dim//2] = 1\n",
    "system[:,dim//2-1] = 1\n",
    "system[dim//2,:] = 1\n",
    "system[dim//2-1,:] = 1\n",
    "system[dim//2,0] = 2\n",
    "print(system)"
   ]
  },
  {
   "cell_type": "code",
   "execution_count": 55,
   "metadata": {},
   "outputs": [],
   "source": [
    "def plot_grid(G):\n",
    "    plt.figure(figsize=(10,10))\n",
    "    plt.imshow(G, interpolation='nearest', cmap=plt.cm.bone, extent=(0.5,10.5,0.5,10.5))\n",
    "    plt.show()\n",
    "    \n",
    "def place_intersections(G):\n",
    "    \"\"\"\n",
    "    - Place intersections on the grid G. \n",
    "    - Intersections are placed at any place 4x4 subsection of G of the following forms:\n",
    "        \n",
    "        [0][1][1][0]  (1)\n",
    "        [1][1][1][1]\n",
    "        [1][1][1][1]\n",
    "        [0][1][1][0],\n",
    "        ---------------------\n",
    "        [0][1][1][0][1][1][0] (2)\n",
    "        [1][1][1][1][1][1][1]\n",
    "        [1][1][1][1][1][1][1]\n",
    "        [0][1][1][0][1][1][0],\n",
    "    \n",
    "    The function for now only support intersections of type (1).\n",
    "    \n",
    "    args:\n",
    "        :NxN grid G\n",
    "    returns:\n",
    "        :the intersection placed grid\n",
    "    \"\"\"\n",
    "    pass\n",
    "\n",
    "def find_regime(submatrix, grid):\n",
    "    \"\"\"\n",
    "    convolve throughout grid and return masks of indices that describe matches in\n",
    "    the grid to the specified submatrix\n",
    "    \n",
    "    args:\n",
    "        :submatrix, grid 2d array\n",
    "    returns:\n",
    "        :masks that describe matches of the regime in the grid\n",
    "    \"\"\"\n",
    "    xdim, ydim = submatrix.shape\n",
    "    \n",
    "    "
   ]
  },
  {
   "cell_type": "code",
   "execution_count": 57,
   "metadata": {},
   "outputs": [
    {
     "data": {
      "image/png": "[encoded data removed]",
      "text/plain": [
       "<Figure size 720x720 with 1 Axes>"
      ]
     },
     "metadata": {},
     "output_type": "display_data"
    }
   ],
   "source": [
    "plot_grid(system)"
   ]
  },
  {
   "cell_type": "code",
   "execution_count": 59,
   "metadata": {},
   "outputs": [
    {
     "data": {
      "text/plain": [
       "array([[0., 0., 0., ..., 0., 0., 0.],\n",
       "       [0., 0., 0., ..., 0., 0., 0.],\n",
       "       [0., 0., 0., ..., 0., 0., 0.],\n",
       "       ...,\n",
       "       [0., 0., 0., ..., 0., 0., 0.],\n",
       "       [0., 0., 0., ..., 0., 0., 0.],\n",
       "       [0., 0., 0., ..., 0., 0., 0.]])"
      ]
     },
     "execution_count": 59,
     "metadata": {},
     "output_type": "execute_result"
    }
   ],
   "source": [
    "system"
   ]
  },
  {
   "cell_type": "code",
   "execution_count": null,
   "metadata": {
    "collapsed": true
   },
   "outputs": [],
   "source": []
  }
 ],
 "metadata": {
  "kernelspec": {
   "display_name": "Python 3",
   "language": "python",
   "name": "python3"
  },
  "language_info": {
   "codemirror_mode": {
    "name": "ipython",
    "version": 3
   },
   "file_extension": ".py",
   "mimetype": "text/x-python",
   "name": "python",
   "nbconvert_exporter": "python",
   "pygments_lexer": "ipython3",
   "version": "3.6.4"
  }
 },
 "nbformat": 4,
 "nbformat_minor": 2
}
