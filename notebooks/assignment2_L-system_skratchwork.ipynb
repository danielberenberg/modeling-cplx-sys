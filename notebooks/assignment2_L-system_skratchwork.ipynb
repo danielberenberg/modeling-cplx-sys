{
 "cells": [
  {
   "cell_type": "markdown",
   "metadata": {},
   "source": [
    "# L-Systems\n"
   ]
  },
  {
   "cell_type": "code",
   "execution_count": 84,
   "metadata": {},
   "outputs": [],
   "source": [
    "import numpy as np\n",
    "import random\n",
    "import math\n",
    "import re\n",
    "import glob\n",
    "\n",
    "import matplotlib.pyplot as plt\n",
    "from matplotlib import colors\n",
    "from matplotlib import rc\n",
    "#rc('font',**{'family':'sans-serif','sans-serif':['Helvetica']})\n",
    "## for Palatino and other serif fonts use:\n",
    "rc('font',**{'family':'serif','serif':['Palatino']})\n",
    "rc('text', usetex=True)\n",
    "\n"
   ]
  },
  {
   "cell_type": "markdown",
   "metadata": {},
   "source": [
    "### This function just implements the rules on the axiom given:"
   ]
  },
  {
   "cell_type": "code",
   "execution_count": 85,
   "metadata": {},
   "outputs": [],
   "source": [
    "def L_system(axiom,rules,reps):\n",
    "    '''\n",
    "        L-system implementation function:\n",
    "            looks through every element in a string, starting with the axiom\n",
    "            and if a rule exists for that element, it is replaced with whatever the\n",
    "            rule maps it to.\n",
    "            \n",
    "        args:\n",
    "            : axiom : type = str, starting point to build off of\n",
    "            : rules : type = dict, of the rules of the L-sys where key string elements when found\n",
    "                in an iteration, will be replaced with their value elements in the dict.\n",
    "            : reps : type = int, number of times to find and replace in the string \n",
    "        returns:\n",
    "                a dictionary of:\n",
    "                'str': the final axiom string\n",
    "                'rules': the original rules dictionary\n",
    "                'reps': the number of iterations done\n",
    "    '''\n",
    "    for i in range(reps):\n",
    "        for seed in sorted(rules.keys()):\n",
    "            axiom = re.sub(seed,rules[seed],axiom) #axiom.replace(seed,rules[seed])\n",
    "        print(list(axiom[:20]))\n",
    "        print('...')\n",
    "    \n",
    "    return {'str':axiom,'rules':rules,'reps':reps}\n",
    "    "
   ]
  },
  {
   "cell_type": "markdown",
   "metadata": {},
   "source": [
    "### Now draw the string as turtle graphics\n"
   ]
  },
  {
   "cell_type": "code",
   "execution_count": 86,
   "metadata": {},
   "outputs": [],
   "source": [
    "def plot_Lsystem(L_system, lenF, lenG, angP, angM, init_cond):\n",
    "    '''\n",
    "        Plotting function for our L-system generated string composed of characters: \n",
    "            --->'F','G','+','-','[',']' \n",
    "            args:\n",
    "                : L_system = L-system function with arguments\n",
    "                : lenF = the length of movement for the 'F' motion\n",
    "                : lenG = the length of movement for the 'G' motion\n",
    "                : angP = the angle (radians) of the leftward (+) direction\n",
    "                : angM = the angle (radians) of the rightward (-) direction\n",
    "                : init_cond = tuple of initial conditions (x,y,initial_angle)\n",
    "                \n",
    "            returns:\n",
    "                    : shows plot and saves figure to directory:\n",
    "                    '../assignments/assignment02-berenberg-howerter/figs/L-system_plots/'\n",
    "    '''\n",
    "    plotfiles = glob.glob('../assignments/assignment02-berenberg-howerter/figs/L-system_plots/*')\n",
    "    plot_counter = np.max([int(re.search('(?<=-)\\d+',p).group(0)) for p in plotfiles])\n",
    "    plot_counter += 1\n",
    "    \n",
    "    # set up our figure size\n",
    "    plt.figure(figsize=(8,13))\n",
    "    plt.axis('off')\n",
    "    \n",
    "    # initiate starting point at (0,0) and initial angle = 0\n",
    "    x = init_cond[0]\n",
    "    y = init_cond[1]\n",
    "    ang = init_cond[2]\n",
    "    \n",
    "    stack = {'x':[x],'y':[y],'ang':[ang]}\n",
    "    cntr = 0\n",
    "    \n",
    "    steps = list(L_system['str'])\n",
    "    print('I have to walk {} steps... :( #sadturtle'.format(len(steps)))\n",
    "    for i,step in enumerate(steps):\n",
    "        if step == 'F':\n",
    "            next_x = x + lenF * math.cos(ang)\n",
    "            next_y = y + lenF * math.sin(ang)\n",
    "            plt.plot([x,next_x],[y,next_y],color='seagreen',linewidth = 1)\n",
    "            x = next_x\n",
    "            y = next_y\n",
    "            \n",
    "        elif step == 'G':\n",
    "            next_x = x + lenG * math.cos(ang)\n",
    "            next_y = y + lenG * math.sin(ang)\n",
    "            plt.plot([x,next_x],[y,next_y],color='lightseagreen',linewidth = 1)\n",
    "            x = next_x\n",
    "            y = next_y\n",
    "            \n",
    "        elif step == '+':\n",
    "            ang = ang + angP\n",
    "            \n",
    "        elif step == '-':\n",
    "            ang = ang - angM\n",
    "            \n",
    "        elif step == '[':\n",
    "            stack['x'].append(x)\n",
    "            stack['y'].append(y)\n",
    "            stack['ang'].append(ang)\n",
    "            cntr += 1\n",
    "            \n",
    "        elif step == ']':\n",
    "            x = stack['x'][cntr]\n",
    "            y = stack['y'][cntr]\n",
    "            ang = stack['ang'][cntr]\n",
    "            cntr = cntr - 1\n",
    "        \n",
    "        else:\n",
    "            print('error, unrecognized character!')\n",
    "        #if gif_it:\n",
    "            #plt.savefig('../assignments/assignment02-berenberg-howerter/figs/L-system_plots/gif-L-sys-{:02d}/step-{:02d}.pdf'.format(plot_counter,i),bbox_inches='tight')\n",
    "            \n",
    "    plt.title('Plot Number {:03d} - G:{},F:{} - iterations = {}'.format(plot_counter,L_system['rules']['G'],L_system['rules']['F'],reps),fontsize=15)\n",
    "    plt.savefig('../assignments/assignment02-berenberg-howerter/figs/L-system_plots/L-sys-{:02d}.pdf'.format(plot_counter),bbox_inches='tight')   \n",
    "    plt.show()"
   ]
  },
  {
   "cell_type": "code",
   "execution_count": null,
   "metadata": {
    "scrolled": false
   },
   "outputs": [
    {
     "name": "stdout",
     "output_type": "stream",
     "text": [
      "['F', '[', '+', 'G', ']', '[', '-', 'G', ']', 'F', '[', '+', 'G', ']', '[', '-', 'G', ']', 'F', 'G']\n",
      "...\n",
      "['F', 'F', '[', '+', 'F', '[', '+', 'G', ']', '[', '-', 'G', ']', 'F', '[', '+', 'G', ']', '[', '-']\n",
      "...\n",
      "['F', 'F', 'F', 'F', '[', '+', 'F', 'F', '[', '+', 'F', '[', '+', 'G', ']', '[', '-', 'G', ']', 'F']\n",
      "...\n",
      "['F', 'F', 'F', 'F', 'F', 'F', 'F', 'F', '[', '+', 'F', 'F', 'F', 'F', '[', '+', 'F', 'F', '[', '+']\n",
      "...\n",
      "['F', 'F', 'F', 'F', 'F', 'F', 'F', 'F', 'F', 'F', 'F', 'F', 'F', 'F', 'F', 'F', '[', '+', 'F', 'F']\n",
      "...\n",
      "['F', 'F', 'F', 'F', 'F', 'F', 'F', 'F', 'F', 'F', 'F', 'F', 'F', 'F', 'F', 'F', 'F', 'F', 'F', 'F']\n",
      "...\n",
      "I have to plot 78058 steps... :(\n"
     ]
    }
   ],
   "source": [
    "# L-system:\n",
    "axiom = 'G'\n",
    "rules = {'G':'F[+G][-G]F[+G][-G]FG','F':'FF'}\n",
    "reps = 6\n",
    "\n",
    "# Plotting parameters\n",
    "\n",
    "# length of our two types of forward motion (F & G)\n",
    "lenF = 0.2\n",
    "lenG = 1.5\n",
    "\n",
    "# angle of turn for our two directions (+ & -)\n",
    "angP = math.pi / 7\n",
    "angM = math.pi / 6\n",
    "\n",
    "plot_Lsystem(L_system(axiom,rules,reps), lenF, lenG, angP, angM, (0,0,math.pi/2))"
   ]
  },
  {
   "cell_type": "code",
   "execution_count": null,
   "metadata": {},
   "outputs": [],
   "source": []
  }
 ],
 "metadata": {
  "kernelspec": {
   "display_name": "Python 3",
   "language": "python",
   "name": "python3"
  },
  "language_info": {
   "codemirror_mode": {
    "name": "ipython",
    "version": 3
   },
   "file_extension": ".py",
   "mimetype": "text/x-python",
   "name": "python",
   "nbconvert_exporter": "python",
   "pygments_lexer": "ipython3",
   "version": "3.6.4"
  }
 },
 "nbformat": 4,
 "nbformat_minor": 2
}
