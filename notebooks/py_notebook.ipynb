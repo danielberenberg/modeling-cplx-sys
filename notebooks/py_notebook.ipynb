{
 "cells": [
  {
   "cell_type": "code",
   "execution_count": 124,
   "metadata": {
    "collapsed": true
   },
   "outputs": [],
   "source": [
    "import numpy as np\n",
    "import matplotlib.pyplot as plt\n",
    "from matplotlib import colors\n",
    "from matplotlib import rc\n",
    "#rc('font',**{'family':'serif','serif':['Palatino']})\n",
    "#rc('text', usetex=True)"
   ]
  },
  {
   "cell_type": "markdown",
   "metadata": {},
   "source": [
    "## Setup\n",
    "\n",
    "The initial value problem (general first order) is:\n",
    "$$\n",
    "\\begin{gather*}\n",
    "\\frac{\\mathrm{d}y}{\\mathrm{d}t} = f(t,y) & y(t_{0}) = y_{0}\n",
    "\\end{gather*}\n",
    "$$\n",
    "\n",
    "With the objective being to approximate $y(t)$ given these constraints (initial condition and derivative).\n",
    "\n",
    "\n",
    "So let's define a set of constraints to work validate against:\n",
    "$$\n",
    "\\begin{gather*}\n",
    "f(t, y) - y = -\\frac{1}{2}e^{\\frac{t}{2}}\\sin(5t) + 5e^{\\frac{t}{2}}\\cos(5t) & y(0) = 0\n",
    "\\end{gather*}\n",
    "$$\n",
    "Meaning we're given the derivative $\\frac{\\mathrm{d}y}{\\mathrm{d}t} = f(t,y) =  -\\frac{1}{2}e^{\\frac{t}{2}}\\sin(5t) + 5e^{\\frac{t}{2}}\\cos(5t) + y$.\n",
    "\n",
    "The solution to this linear first order differential equation is:\n",
    "$$\n",
    "\\begin{align*}\n",
    "y(t) &= e^{\\frac{t}{2}}\\sin(5t)\n",
    "\\end{align*}\n",
    "$$"
   ]
  },
  {
   "cell_type": "code",
   "execution_count": 125,
   "metadata": {
    "collapsed": true
   },
   "outputs": [],
   "source": [
    "# declare the constraints\n",
    "y0 = 0\n",
    "\n",
    "def f(t, y):\n",
    "    \"\"\"\n",
    "    the derivative of the function we seek to approximate\n",
    "    \n",
    "    args:\n",
    "        :t (float) - the timestep of interest\n",
    "        :y (float) - the y value \n",
    "    \"\"\"\n",
    "    \n",
    "    return -(1/2)*np.exp(t/2)*np.sin(5*t) + 5*np.exp(t/2)*np.cos(5*t) + y\n",
    "\n",
    "def y(t):\n",
    "    \"\"\"\n",
    "    the actual function we'd like to approximate\n",
    "    \n",
    "    args:\n",
    "        :t (float) - timestep\n",
    "    \"\"\"\n",
    "    \n",
    "    return np.exp(t/2)*np.sin(5*t)"
   ]
  },
  {
   "cell_type": "markdown",
   "metadata": {},
   "source": [
    "## Euler's Method\n",
    "This method, also known is technically the Runge-Kutta first order solver. The equation for it is given by:\n",
    "$$\n",
    "\\begin{align*}\n",
    "y_{n+1} &= y_{n} + hf(t_{n}, y_{n})\n",
    "\\end{align*}\n",
    "$$\n",
    "\n",
    "Where $h=t_{n+1}-t_{n}$.\n",
    "\n",
    "## Heun's Method\n",
    "AKA Runge-Kutta 2nd order aka Modified Euler's method\n",
    "Approximate $\\int f(t,y)\\mathrm{d}t = \\int \\frac{\\mathrm{d}y}{\\mathrm{d}t}\\mathrm{d}t = \\int \\mathrm{d}y = y$ even more accurately by evaluating farther into the future:\n",
    "$$\n",
    "\\begin{align*}\n",
    "y_{h} = y_{n+1} = y_{n} + \\frac{h}{2}\\bigg{[}f(t_{n},y_{n}) + f(t_{n+1},\\hat{y}_{n+1})\\bigg{]}\n",
    "\\end{align*}\n",
    "$$\n",
    "Where $\\hat{y}$ is approximated using Euler's method."
   ]
  },
  {
   "cell_type": "code",
   "execution_count": 126,
   "metadata": {
    "collapsed": true
   },
   "outputs": [],
   "source": [
    "def Euler(yn,tn,h,dydt):\n",
    "    \"\"\"\n",
    "    Compute the Euler's method approximation of unknown function F at position i ( F(i) )\n",
    "    \n",
    "    args:\n",
    "        :yi (float) - the initial condition\n",
    "        :t (float) - timestep of interest\n",
    "        :h (float) - stepsize\n",
    "        :dydt (function) - dF/dt --> should take two parametrs *(float,float) = t,yn\n",
    "        \n",
    "    returns:\n",
    "        :(float) - the approximation\n",
    "    \"\"\"\n",
    "    return yn + dydt(tn,yn) * h\n",
    "\n",
    "def Heun(yn,tn,h,dydt):\n",
    "    \"\"\"\n",
    "    Compute the Heuns's method approximation of unknown function F at position i ( F(i) )\n",
    "    \n",
    "    args:\n",
    "        :yi (float) - the initial condition\n",
    "        :t (float) - timestep of interest\n",
    "        :h (float) - stepsize\n",
    "        :dydt (function) - dF/dt --> should take two parameters *(float,float) = t,yn\n",
    "        \n",
    "    returns:\n",
    "        :(float) - the approximation\n",
    "    \"\"\"\n",
    "    \n",
    "    ynp1 = Euler(yn,tn,h,dydt)\n",
    "    return yn + (h/2)*(dydt(tn,yn) + dydt(tn + h, ynp1))\n",
    "\n",
    "def approximate(y0, dydt, t, solver):\n",
    "    \"\"\"\n",
    "    steps through an approximation of F = integral(dydt) using the solver \n",
    "    for each timestep in t\n",
    "    \n",
    "    args:\n",
    "        :y0 (float) - initial condition F(0)\n",
    "        :dydt (function) - the derivative of F\n",
    "        :t (list, np.array) - the timesteps to consider\n",
    "        :solver (function) - the method used to approximate F\n",
    "        \n",
    "    returns:\n",
    "        :(np.array) - approximation of F from t0 to tn\n",
    "    \"\"\"\n",
    "    n = len(t) # number of timesteps to approximate into the future\n",
    "    h = abs(t[0] - t[1]) # assuming linearly spaced timesteps\n",
    "    \n",
    "    Fhat = np.zeros(n) # the list of approximations of F s.t Fhat[i] ~= F(i)\n",
    "    Fhat[0] = y0\n",
    "    \n",
    "    for i in range(1,n,1):\n",
    "        Fhat[i] = solver(Fhat[i-1],t[i-1],h,dydt)\n",
    "    \n",
    "    return Fhat\n",
    "\n",
    "def rk1(y0, dydt, t):\n",
    "    \"\"\"\n",
    "    Runge-Kutta 1st order (Euler's method)\n",
    "    \"\"\"\n",
    "    return approximate(y0, dydt, t, Euler)\n",
    "\n",
    "def rk2(y0, dydt, t):\n",
    "    \"\"\"\n",
    "    Runge-Kutta 2nd order (Heun's Method)\n",
    "    \"\"\"\n",
    "    return approximate(y0, dydt, t, Heun)"
   ]
  },
  {
   "cell_type": "code",
   "execution_count": 105,
   "metadata": {},
   "outputs": [
    {
     "name": "stdout",
     "output_type": "stream",
     "text": [
      "120\n"
     ]
    },
    {
     "data": {
      "image/png": "[encoded data removed]",
      "text/plain": [
       "<Figure size 432x288 with 1 Axes>"
      ]
     },
     "metadata": {},
     "output_type": "display_data"
    }
   ],
   "source": [
    "tn = 6\n",
    "h = 0.05\n",
    "t = np.arange(0,tn,h) # [0,2pi] in steps of H\n",
    "print(len(t))\n",
    "plt.scatter(t,rk1(y0=y0,dydt=f,t=t),label=\"$F_{e}(t)$\")\n",
    "plt.scatter(t,rk2(y0=y0,dydt=f,t=t),label=\"$F_{h}(t)$\")\n",
    "plt.title(\"Approximating $F = \\sin(x)\\cos(x)$\")\n",
    "plt.plot(t, y(t),alpha=0.6,label='$F(t)$',color=\"black\")\n",
    "\n",
    "plt.legend()\n",
    "plt.xlabel(\"$t$\")\n",
    "plt.ylabel(\"$f(t)$ for each $f \\in \\{F, F_{e}, F_{h}\\}$\")\n",
    "plt.show()"
   ]
  },
  {
   "cell_type": "code",
   "execution_count": 123,
   "metadata": {},
   "outputs": [],
   "source": [
    "euler = rk1(y0=y0,dydt=f,t=t)\n",
    "heun  = rk2(y0=y0,dydt=f,t=t)\n",
    "actual  = y(t)"
   ]
  },
  {
   "cell_type": "code",
   "execution_count": null,
   "metadata": {
    "collapsed": true
   },
   "outputs": [],
   "source": []
  }
 ],
 "metadata": {
  "kernelspec": {
   "display_name": "Python 3",
   "language": "python",
   "name": "python3"
  },
  "language_info": {
   "codemirror_mode": {
    "name": "ipython",
    "version": 3
   },
   "file_extension": ".py",
   "mimetype": "text/x-python",
   "name": "python",
   "nbconvert_exporter": "python",
   "pygments_lexer": "ipython3",
   "version": "3.6.1"
  }
 },
 "nbformat": 4,
 "nbformat_minor": 2
}
