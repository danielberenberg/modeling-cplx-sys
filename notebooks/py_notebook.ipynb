{
 "cells": [
  {
   "cell_type": "code",
   "execution_count": 1,
   "metadata": {
    "collapsed": true
   },
   "outputs": [],
   "source": [
    "import numpy as np\n",
    "import matplotlib.pyplot as plt\n",
    "from matplotlib import colors\n",
    "from matplotlib import rc\n",
    "#rc('font',**{'family':'serif','serif':['Palatino']})\n",
    "#rc('text', usetex=True)"
   ]
  },
  {
   "cell_type": "code",
   "execution_count": 2,
   "metadata": {
    "collapsed": true
   },
   "outputs": [],
   "source": [
    "## This is the derivative of our function:\n",
    "def dxdt(t):\n",
    "    return np.cos(t)"
   ]
  },
  {
   "cell_type": "code",
   "execution_count": 3,
   "metadata": {
    "collapsed": true
   },
   "outputs": [],
   "source": [
    "def Euler(yi,t,dydt,h):\n",
    "    \"\"\"\n",
    "    Compute the Euler's method approximation of unknown function F at position i ( F(i) )\n",
    "    \n",
    "    args:\n",
    "        :yi (float) - the initial condition\n",
    "        :t (float) - timestep of interest\n",
    "        :dydt (function) - dF/dt\n",
    "        :h (float) - stepsize\n",
    "        \n",
    "    returns:\n",
    "        :(float) - the approximation\n",
    "    \"\"\"\n",
    "    return yi + dydt(t) * h\n",
    "\n",
    "def Heun(yi, t, dydt, h):\n",
    "    \"\"\"\n",
    "    Compute the Runge-Kutta order 2 approximation of unknown function F at position i ( F(i) )\n",
    "    Also known as Heun's method, [modified|improved] Euler's method\n",
    "    \n",
    "    args:\n",
    "        :yi (float) - the initial condition\n",
    "        :ti (float) - timestep of interest\n",
    "        :dydt (function) - dF/dt\n",
    "        :h (float) - stepsize\n",
    "        \n",
    "    returns:\n",
    "        :(float) - RK2 approximation\n",
    "    \"\"\"\n",
    "    \n",
    "    return yi + (h/2) * (dydt(t) + dydt(t+h))\n",
    "\n",
    "def approximate(y0, dydt, t, solver):\n",
    "    \"\"\"\n",
    "    return an approximation of F = integral(dydt) using the solver \n",
    "    \n",
    "    args:\n",
    "        :y0 (float) - initial condition F(0)\n",
    "        :dydt (function) - the derivative of F\n",
    "        :t (list, np.array) - the timesteps to consider\n",
    "        :solver (function) - the method used to approximate F\n",
    "        \n",
    "    returns:\n",
    "        :(np.array) - approximation of F from t0 to tn\n",
    "    \"\"\"\n",
    "    n = len(t) # number of timesteps to approximate into the future\n",
    "    h = abs(t[0] - t[1]) # assuming linearly spaced timesteps\n",
    "    \n",
    "    Fhat = np.zeros(n) # the list of approximations of F s.t Fhat[i] ~= F(i)\n",
    "    Fhat[0] = y0\n",
    "    \n",
    "    for i in range(1,n,1):\n",
    "        Fhat[i] = solver(Fhat[i-1],t[i-1],dydt,h)\n",
    "    \n",
    "    return Fhat\n",
    "\n",
    "def rk1(y0, dydt, t):\n",
    "    return approximate(y0, dydt, t, Euler)\n",
    "\n",
    "def rk2(y0, dydt, t):\n",
    "    return approximate(y0, dydt, t, Heun)"
   ]
  },
  {
   "cell_type": "code",
   "execution_count": 4,
   "metadata": {},
   "outputs": [
    {
     "data": {
      "image/png": "[encoded data removed]",
      "text/plain": [
       "<Figure size 432x288 with 1 Axes>"
      ]
     },
     "metadata": {},
     "output_type": "display_data"
    }
   ],
   "source": [
    "def F(x):\n",
    "    # our 'unknown' function F\n",
    "    return np.sin(x)*np.cos(x)\n",
    "\n",
    "def dFdx(x):\n",
    "    # derivative of unknown F with respect to x\n",
    "    return np.power(np.cos(x),2) - np.power(-np.sin(x), 2)\n",
    "\n",
    "n = np.pi * 2\n",
    "h = 0.15\n",
    "t = np.arange(0,n, h) # [0,2pi] in steps of H\n",
    "y0 = 0\n",
    "\n",
    "#plt.figure(figsize=(9,12))\n",
    "#ts,xs = do_Euler(x0,h,n)\n",
    "plt.plot(t, F(t), label='$F(t)$',linestyle=\"--\",color=\"black\",linewidth=1)\n",
    "plt.scatter(t,rk1(y0=F(0),dydt=dFdx,t=t),label=\"$F_{e}(t)$\",color=\"C2\")\n",
    "plt.scatter(t,rk2(y0=F(0),dydt=dFdx,t=t),label=\"$F_{h}(t)$\",color=\"C3\")\n",
    "plt.title(\"$F = \\sin(x)\\cos(x)$\")\n",
    "plt.legend()\n",
    "plt.xlabel(\"$t$\")\n",
    "plt.ylabel(\"$f(t)$ for each $f \\in \\{F, F_{e}, F_{h}\\}$\")\n",
    "plt.show()"
   ]
  },
  {
   "cell_type": "code",
   "execution_count": 5,
   "metadata": {
    "collapsed": true
   },
   "outputs": [],
   "source": [
    "def do_Heun(x0,h,n):\n",
    "    '''Heun's or improved Euler's method function'''\n",
    "    ts = np.zeros(n)\n",
    "    xs = np.zeros(n)\n",
    "    xs[0] = x0\n",
    "    ts[0] = 0\n",
    "    for i in range(1,n-1,1):\n",
    "        ts[i] = ts[i-1] + h\n",
    "        xs[i] = Euler(xs[i-1],ts[i-1],dxdt,h)\n",
    "    \n",
    "    return ts,xs\n",
    "    "
   ]
  },
  {
   "cell_type": "code",
   "execution_count": 6,
   "metadata": {},
   "outputs": [
    {
     "name": "stdout",
     "output_type": "stream",
     "text": [
      "h  : 0.15\n",
      "h*h = 0.0225   ~= 0.0748 = local err (Euler)\n",
      "h^3 = 0.003375 ~= 0.0024 = local err (Heun)\n"
     ]
    }
   ],
   "source": [
    "euler = rk1(y0=F(0),dydt=dFdx,t=t)\n",
    "heun  = rk2(y0=F(0),dydt=dFdx,t=t)\n",
    "actual  = F(t)\n",
    "\n",
    "print(f\"h  : {h}\")\n",
    "print(f\"h*h = {h*h}   ~= {round(np.mean(abs(actual-euler)),4):.04f} = local err (Euler)\")\n",
    "print(f\"h^3 = {h*h*h} ~= {round(np.mean(abs(actual-heun)),4)} = local err (Heun)\")"
   ]
  },
  {
   "cell_type": "code",
   "execution_count": null,
   "metadata": {
    "collapsed": true
   },
   "outputs": [],
   "source": []
  }
 ],
 "metadata": {
  "kernelspec": {
   "display_name": "Python 3",
   "language": "python",
   "name": "python3"
  },
  "language_info": {
   "codemirror_mode": {
    "name": "ipython",
    "version": 3
   },
   "file_extension": ".py",
   "mimetype": "text/x-python",
   "name": "python",
   "nbconvert_exporter": "python",
   "pygments_lexer": "ipython3",
   "version": "3.6.1"
  }
 },
 "nbformat": 4,
 "nbformat_minor": 2
}
