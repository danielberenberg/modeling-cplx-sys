{
 "cells": [
  {
   "cell_type": "markdown",
   "metadata": {},
   "source": [
    "## Diffusion Limited Aggregation"
   ]
  },
  {
   "cell_type": "code",
   "execution_count": 1,
   "metadata": {
    "collapsed": false
   },
   "outputs": [],
   "source": [
    "import numpy as np\n",
    "import random\n",
    "from skimage import measure\n",
    "from functools import reduce"
   ]
  },
  {
   "cell_type": "code",
   "execution_count": 36,
   "metadata": {
    "collapsed": false
   },
   "outputs": [],
   "source": [
    "def spawn_walkers(mat, N=10):\n",
    "    \"\"\"\n",
    "    spawn N random walkers on the given matrix\n",
    "    \n",
    "    args:\n",
    "        :mat - matrix to place walkers\n",
    "        :N (int) - number of walkers to spawn\n",
    "    \"\"\"\n",
    "    # viable locations to spawn are those that are unoccupied\n",
    "    viable_loc_mat = np.ones(mat.shape) - mat    \n",
    "    viable_locs = list(np.array(np.where(viable_loc_mat > 0)).T)\n",
    "    assert len(viable_locs) >= N, \"There are not {} spawn locations\".format(N)\n",
    "\n",
    "    spawn_locs = random.sample(viable_locs, N)\n",
    "    args = zip(*spawn_locs)\n",
    "    mat[list(args)] = 1\n",
    "    \n",
    "def move_walkers(mat):\n",
    "    \"\"\"\n",
    "    parallelize the movement of random walkers, for now \n",
    "    if a collision \n",
    "    \n",
    "    1) sweep through matrix and find walkers\n",
    "        1a) clustered walkers are locked for this (and hence every subsequent) timestep\n",
    "    \n",
    "    args:\n",
    "        :mat - matrix containing walkers\n",
    "    \"\"\"\n",
    "    # label clusters\n",
    "    walkers_lbld = measure.label(mat, connectivity=1)\n",
    "    # extract indexes\n",
    "    idx = [np.array(np.where(walkers_lbld == label)).T.tolist() for label in np.unique(walkers_lbld) if label]\n",
    "    \n",
    "    mask = []\n",
    "    try:  # test if there are clusters > length 2, concatenate each such cluster, split into 2 sep. arrays\n",
    "        mask = list(zip(*reduce(lambda x1,x2: x1 + x2, filter(lambda x: len(x) > 1, idx))))\n",
    "          # mark immovables\n",
    "        mat[mask] = 1000\n",
    "    except TypeError:\n",
    "        pass\n",
    "    \n",
    "    movers = list(filter(lambda x: x not in mask, idx))\n",
    "    print(movers)\n",
    "    #bboxes = [area.bbox for area in measure.regionprops(walkers_lbld)]\n",
    "    # b in bboxes looks like this: {min_row, min_col, max_row, max_col}\n",
    "    #bboxes = list(filter(lambda (mn_r,mn_c,mx_r,mx_c): mx_r - mn_r > 1 and mx_c - mn_c > 1))\n",
    "    # color the stagnant boxes\n",
    "   \n",
    "    #idx = [np.where(walkers_lbld==label) for label in np.unique(walkers_lbld) if label]\n",
    "    # adjacent walkers don't move this timestep\n",
    "    # nonadjacent walkers move by applying random maximum \n",
    "    "
   ]
  },
  {
   "cell_type": "code",
   "execution_count": 37,
   "metadata": {
    "collapsed": true
   },
   "outputs": [],
   "source": [
    "dims = (1000,1000)\n",
    "starter_mat = np.zeros(dims)"
   ]
  },
  {
   "cell_type": "code",
   "execution_count": 38,
   "metadata": {
    "collapsed": false
   },
   "outputs": [
    {
     "name": "stdout",
     "output_type": "stream",
     "text": [
      "[[[1, 702]], [[4, 96]], [[10, 953]], [[24, 862]], [[29, 841]], [[39, 219]], [[41, 820]], [[43, 440]], [[44, 23]], [[49, 851]], [[50, 104]], [[52, 440]], [[74, 381]], [[77, 140]], [[88, 587]], [[93, 782]], [[110, 869]], [[110, 926]], [[123, 162]], [[127, 903]], [[134, 238]], [[140, 36]], [[146, 583]], [[148, 312]], [[158, 277]], [[161, 74]], [[163, 101]], [[165, 125]], [[168, 19]], [[169, 174]], [[173, 357]], [[181, 190]], [[197, 5]], [[198, 862]], [[202, 834]], [[210, 182]], [[211, 409]], [[219, 71]], [[220, 560]], [[223, 163]], [[224, 947]], [[230, 309]], [[232, 900]], [[244, 979]], [[245, 975]], [[253, 571]], [[254, 797]], [[255, 296]], [[265, 906]], [[272, 826]], [[275, 671]], [[284, 303]], [[285, 540]], [[293, 84]], [[299, 957]], [[305, 606]], [[310, 466]], [[318, 155]], [[321, 469]], [[323, 672]], [[326, 649]], [[340, 636]], [[342, 67]], [[345, 777]], [[346, 100]], [[350, 606]], [[354, 800]], [[355, 927]], [[363, 256]], [[366, 805]], [[373, 474]], [[383, 943]], [[404, 554]], [[413, 723]], [[414, 553]], [[417, 158]], [[419, 5]], [[420, 0]], [[423, 650]], [[424, 562]], [[430, 553]], [[434, 977]], [[438, 324]], [[442, 777]], [[443, 207]], [[444, 89]], [[455, 440]], [[466, 796]], [[478, 870]], [[483, 742]], [[503, 682]], [[504, 218]], [[506, 205]], [[508, 524]], [[511, 750]], [[520, 661]], [[521, 875]], [[522, 342]], [[526, 561]], [[530, 220]], [[536, 488]], [[537, 143]], [[539, 287]], [[545, 621]], [[549, 805]], [[554, 676]], [[555, 121]], [[557, 262]], [[588, 664]], [[589, 733]], [[594, 365]], [[594, 975]], [[596, 620]], [[597, 319]], [[597, 493]], [[598, 989]], [[603, 558]], [[604, 465]], [[611, 260]], [[614, 542]], [[617, 193]], [[619, 258]], [[622, 960]], [[627, 119]], [[629, 823]], [[638, 789]], [[641, 131]], [[656, 44]], [[663, 454]], [[669, 757]], [[673, 519]], [[690, 819]], [[691, 811]], [[692, 705]], [[693, 772]], [[701, 27]], [[704, 167]], [[706, 652]], [[712, 179]], [[712, 665]], [[714, 462]], [[716, 459]], [[716, 721]], [[717, 143]], [[717, 585]], [[719, 578]], [[725, 340]], [[728, 80]], [[732, 767]], [[736, 438]], [[736, 854]], [[745, 953]], [[752, 954]], [[753, 652]], [[762, 887]], [[763, 886]], [[767, 728]], [[776, 952]], [[785, 214]], [[796, 439]], [[799, 107]], [[803, 998]], [[805, 608]], [[812, 862]], [[817, 632]], [[836, 664]], [[838, 378]], [[854, 405]], [[858, 856]], [[864, 490]], [[867, 493]], [[871, 830]], [[872, 621]], [[873, 58]], [[874, 191]], [[889, 897]], [[896, 205]], [[896, 908]], [[897, 701]], [[904, 758]], [[907, 505]], [[911, 620]], [[917, 725]], [[927, 227]], [[930, 248]], [[936, 201]], [[943, 724]], [[944, 637]], [[956, 674]], [[959, 4]], [[959, 543]], [[960, 60]], [[964, 426]], [[969, 485]], [[972, 762]], [[977, 251]], [[985, 730]], [[989, 302]], [[998, 91]], [[999, 691]]]\n"
     ]
    }
   ],
   "source": [
    "spawn_walkers(starter_mat, N=100)\n",
    "spawn_walkers(starter_mat, N=100)\n",
    "#print(starter_mat)\n",
    "move_walkers(starter_mat)\n",
    "#print(starter_mat)\n",
    "#(min_row, min_col, max_row, max_col)\n",
    "#print(starter_mat[]\n",
    "#for k in range(0,1000,10):\n",
    "##    print(\"\\r{:5d}\".format(k),end=\"\",flush=True)\n",
    "#    spawn_walkers(starter_mat)"
   ]
  },
  {
   "cell_type": "code",
   "execution_count": 17,
   "metadata": {
    "collapsed": false
   },
   "outputs": [
    {
     "data": {
      "text/plain": [
       "array([[0., 0., 0., ..., 0., 0., 0.],\n",
       "       [0., 0., 0., ..., 0., 0., 0.],\n",
       "       [0., 0., 0., ..., 0., 0., 0.],\n",
       "       ...,\n",
       "       [0., 0., 0., ..., 0., 0., 0.],\n",
       "       [0., 0., 0., ..., 0., 0., 0.],\n",
       "       [0., 0., 0., ..., 0., 0., 0.]])"
      ]
     },
     "execution_count": 17,
     "metadata": {},
     "output_type": "execute_result"
    }
   ],
   "source": [
    "starter_mat[0:1,5:6] = 123\n",
    "\n",
    "starter_mat"
   ]
  },
  {
   "cell_type": "code",
   "execution_count": 78,
   "metadata": {
    "collapsed": true
   },
   "outputs": [],
   "source": [
    "A = np.ones((10,10))"
   ]
  },
  {
   "cell_type": "code",
   "execution_count": 79,
   "metadata": {
    "collapsed": true
   },
   "outputs": [],
   "source": [
    "A[[1,1],[2,2]] = 3"
   ]
  },
  {
   "cell_type": "code",
   "execution_count": 80,
   "metadata": {
    "collapsed": false
   },
   "outputs": [
    {
     "data": {
      "text/plain": [
       "array([[1., 1., 1., 1., 1., 1., 1., 1., 1., 1.],\n",
       "       [1., 1., 3., 1., 1., 1., 1., 1., 1., 1.],\n",
       "       [1., 1., 1., 1., 1., 1., 1., 1., 1., 1.],\n",
       "       [1., 1., 1., 1., 1., 1., 1., 1., 1., 1.],\n",
       "       [1., 1., 1., 1., 1., 1., 1., 1., 1., 1.],\n",
       "       [1., 1., 1., 1., 1., 1., 1., 1., 1., 1.],\n",
       "       [1., 1., 1., 1., 1., 1., 1., 1., 1., 1.],\n",
       "       [1., 1., 1., 1., 1., 1., 1., 1., 1., 1.],\n",
       "       [1., 1., 1., 1., 1., 1., 1., 1., 1., 1.],\n",
       "       [1., 1., 1., 1., 1., 1., 1., 1., 1., 1.]])"
      ]
     },
     "execution_count": 80,
     "metadata": {},
     "output_type": "execute_result"
    }
   ],
   "source": [
    "A"
   ]
  },
  {
   "cell_type": "code",
   "execution_count": null,
   "metadata": {
    "collapsed": true
   },
   "outputs": [],
   "source": []
  }
 ],
 "metadata": {
  "kernelspec": {
   "display_name": "Python 3",
   "language": "python",
   "name": "python3"
  },
  "language_info": {
   "codemirror_mode": {
    "name": "ipython",
    "version": 3
   },
   "file_extension": ".py",
   "mimetype": "text/x-python",
   "name": "python",
   "nbconvert_exporter": "python",
   "pygments_lexer": "ipython3",
   "version": "3.6.6"
  }
 },
 "nbformat": 4,
 "nbformat_minor": 2
}
