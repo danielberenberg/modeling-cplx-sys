{
 "cells": [
  {
   "cell_type": "markdown",
   "metadata": {},
   "source": [
    "## Diffusion Limited Aggregation"
   ]
  },
  {
   "cell_type": "code",
   "execution_count": 1,
   "metadata": {},
   "outputs": [],
   "source": [
    "import numpy as np\n",
    "import random\n",
    "from skimage import measure\n",
    "from functools import reduce"
   ]
  },
  {
   "cell_type": "code",
   "execution_count": 27,
   "metadata": {},
   "outputs": [],
   "source": [
    "def spawn_walkers(mat, N=10):\n",
    "    \"\"\"\n",
    "    spawn N random walkers on the given matrix\n",
    "    \n",
    "    args:\n",
    "        :mat - matrix to place walkers\n",
    "        :N (int) - number of walkers to spawn\n",
    "    \"\"\"\n",
    "    # viable locations to spawn are those that are unoccupied\n",
    "    viable_loc_mat = np.ones(mat.shape) - mat    \n",
    "    viable_locs = list(np.array(np.where(viable_loc_mat > 0)).T)\n",
    "    assert len(viable_locs) >= N, \"There are not {} spawn locations\".format(N)\n",
    "\n",
    "    spawn_locs = random.sample(viable_locs, N)\n",
    "    args = zip(*spawn_locs)\n",
    "    mat[list(args)] = 1\n",
    "    \n",
    "def move_walkers(mat):\n",
    "    \"\"\"\n",
    "    parallelize the movement of random walkers, for now \n",
    "    if a collision \n",
    "    \n",
    "    0) define a new matrix\n",
    "    1) sweep through matrix and find walkers\n",
    "        1a) clustered walkers are locked for this (and hence every subsequent) timestep\n",
    "    2) vectorizedly decide their next positions \n",
    "    3) return the result\n",
    "    \n",
    "    args:\n",
    "        :mat - matrix containing walkers\n",
    "    \"\"\"\n",
    "    # label clusters with skimage magic\n",
    "    walkers_lbld = measure.label(mat, connectivity=1)\n",
    "    # extract indexes by returning all indices that had a one\n",
    "    idx = [np.array(np.where(walkers_lbld == label)).T.tolist() for label in np.unique(walkers_lbld) if label]\n",
    "    M = np.zeros(mat.shape)  # new matrix\n",
    "    mask = [] \n",
    "    try:  # test if there are clusters > length 2, concatenate each such cluster, split into 2 sep. arrays\n",
    "        mask = list(zip(*reduce(lambda x1,x2: x1 + x2, filter(lambda x: len(x) > 1, idx))))\n",
    "        M[mask] = 1\n",
    "    except TypeError:  # implies no clusters exist\n",
    "        pass\n",
    "    \n",
    "    # map from integers to directions up, down, left, right\n",
    "    NSEW = {0:np.array([0,1]),\n",
    "            1:np.array([0,-1]),\n",
    "            2:np.array([-1,0]),\n",
    "            3:np.array([1,0])}\n",
    "    \n",
    "    # get movers that aren't found in clusters\n",
    "    movers = np.array(list(filter(lambda x: x not in mask, map(lambda x: np.array(x[0]), idx))))\n",
    "    # select moves for each mover\n",
    "    moves = np.array(list(map(lambda x: NSEW[x], np.random.randint(0,high=4,size=len(movers)))))\n",
    "    # generate the next positions for the walkers to move with periodic boundaries\n",
    "    next_positions = list(zip(*np.mod(movers + moves,mat.shape)))\n",
    "    M[next_positions] = 1\n",
    "    \n",
    "    return M\n",
    "\n",
    "def plot_matrix(A,name):\n",
    "    X,Y = zip(*np.array(np.where(mat>0)).T.tolist())\n",
    "    plt.scatter(X,Y)\n",
    "    plt.xticks([]); plt.yticks([]);\n",
    "    plt.savefig(name)"
   ]
  },
  {
   "cell_type": "code",
   "execution_count": 24,
   "metadata": {},
   "outputs": [],
   "source": [
    "import matplotlib.pyplot as plt"
   ]
  },
  {
   "cell_type": "code",
   "execution_count": 29,
   "metadata": {},
   "outputs": [
    {
     "data": {
      "image/png": "[encoded data removed]",
      "text/plain": [
       "<Figure size 432x288 with 1 Axes>"
      ]
     },
     "metadata": {},
     "output_type": "display_data"
    },
    {
     "name": "stdout",
     "output_type": "stream",
     "text": [
      "1\n",
      "[(88, 329, 331, 380, 418, 437, 499, 742, 979, 987), (473, 500, 445, 405, 333, 239, 85, 1, 201, 651)]\n",
      "2\n",
      "[(88, 329, 331, 381, 418, 437, 498, 742, 979, 986), (474, 499, 446, 405, 332, 240, 85, 2, 202, 651)]\n",
      "2\n",
      "[(88, 330, 330, 381, 417, 436, 497, 742, 979, 986), (475, 499, 446, 406, 332, 240, 85, 3, 203, 650)]\n",
      "2\n",
      "10\n"
     ]
    },
    {
     "data": {
      "image/png": "[encoded data removed]",
      "text/plain": [
       "<Figure size 432x288 with 1 Axes>"
      ]
     },
     "metadata": {},
     "output_type": "display_data"
    }
   ],
   "source": [
    "dims = (1000,1000)\n",
    "mat = np.zeros(dims)\n",
    "spawn_walkers(mat, N=10)\n",
    "X, Y = zip(*np.array(np.where(mat > 0)).T.tolist())\n",
    "plt.scatter(X,Y)\n",
    "plt.ylim(0,dims[0])\n",
    "plt.xlim(0,dims[1])\n",
    "plt.show()\n",
    "print(1)\n",
    "mat = move_walkers(mat)\n",
    "mat = move_walkers(mat)\n",
    "mat = move_walkers(mat)\n",
    "X, Y = zip(*np.array(np.where(mat > 0)).T.tolist())\n",
    "plt.scatter(X,Y)\n",
    "\n",
    "print(len(X))\n",
    "#print(2)\n",
    "#mat = move_walkers(mat)\n",
    "#print(3)\n",
    "#mat = move_walkers(mat)\n",
    "plt.show()\n"
   ]
  },
  {
   "cell_type": "code",
   "execution_count": null,
   "metadata": {},
   "outputs": [],
   "source": [
    "\n",
    "spawn_walkers(starter_mat, N=100)\n",
    "spawn_walkers(starter_mat, N=100)\n",
    "#print(starter_mat)\n",
    "move_walkers(starter_mat)\n",
    "#print(starter_mat)\n",
    "#(min_row, min_col, max_row, max_col)\n",
    "#print(starter_mat[]\n",
    "#for k in range(0,1000,10):\n",
    "##    print(\"\\r{:5d}\".format(k),end=\"\",flush=True)\n",
    "#    spawn_walkers(starter_mat)"
   ]
  },
  {
   "cell_type": "code",
   "execution_count": null,
   "metadata": {},
   "outputs": [],
   "source": [
    "starter_mat[starter_mat == 1]"
   ]
  },
  {
   "cell_type": "code",
   "execution_count": null,
   "metadata": {},
   "outputs": [],
   "source": [
    "starter_mat[0:1,5:6] = 123\n",
    "\n",
    "starter_mat"
   ]
  },
  {
   "cell_type": "code",
   "execution_count": null,
   "metadata": {
    "collapsed": true
   },
   "outputs": [],
   "source": [
    "A = np.ones((10,10))"
   ]
  },
  {
   "cell_type": "code",
   "execution_count": null,
   "metadata": {
    "collapsed": true
   },
   "outputs": [],
   "source": [
    "A[[1,1],[2,2]] = 3"
   ]
  },
  {
   "cell_type": "code",
   "execution_count": null,
   "metadata": {},
   "outputs": [],
   "source": [
    "A"
   ]
  },
  {
   "cell_type": "code",
   "execution_count": null,
   "metadata": {
    "collapsed": true
   },
   "outputs": [],
   "source": []
  }
 ],
 "metadata": {
  "kernelspec": {
   "display_name": "Python 3",
   "language": "python",
   "name": "python3"
  },
  "language_info": {
   "codemirror_mode": {
    "name": "ipython",
    "version": 3
   },
   "file_extension": ".py",
   "mimetype": "text/x-python",
   "name": "python",
   "nbconvert_exporter": "python",
   "pygments_lexer": "ipython3",
   "version": "3.6.1"
  }
 },
 "nbformat": 4,
 "nbformat_minor": 2
}
