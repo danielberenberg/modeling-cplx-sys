{
 "cells": [
  {
   "cell_type": "markdown",
   "metadata": {
    "slideshow": {
     "slide_type": "slide"
    }
   },
   "source": [
    "# Vehicular interaction and movement for simple traffic configurations\n",
    "- We are interested in the dynamics between different types of vehicles on a grid. \n",
    "- Particularly, we would like to investigate the interaction between the speeds and general movement of cars (fast vehicles) and bicyles (slower vehicles). \n",
    "- Our research question: __can increased volume of bicycles (slower vehicles) in a traffic system increase its total throughput?__"
   ]
  },
  {
   "cell_type": "markdown",
   "metadata": {
    "slideshow": {
     "slide_type": "slide"
    }
   },
   "source": [
    "# Model design\n",
    "Here we describe the design of our system and the assumptions made on its outset. In general, our model contains both deterministic rules and stochastic processes."
   ]
  },
  {
   "cell_type": "markdown",
   "metadata": {
    "slideshow": {
     "slide_type": "subslide"
    }
   },
   "source": [
    "### Assumptions\n",
    "Our model specific assumptions are as follows:\n",
    "1. There are no collisions. We expect drivers to be responsible and always make choices to slow down and wait their turn at intersections.\n",
    "2. Destination is irrelevant. We are not concerned with where vehicles start/exit the system. Hence, decisions with regard to how a vehicles move at junction points are handled with randomness. \n",
    "3. Cells can take on 5 separate states:\n",
    " - Car $(C)$: A fast vehicle that moves each timestep if the rules allow it.\n",
    " - Bicycle $(B)$: A slow vehicle that moves every $b$ timesteps relative to the time it entered the system.\n",
    " - Empty $(E)$: Grass/division between roads. Cells marked $(E)$ stay that way for the entire simulation.\n",
    " - Road $(R)$: An empty cell that a vehicle can occupy.\n",
    " - Intersection $(I)$: A 4-way stop sign at which vehicles must stop. Intersections act in a first in, first out manner meaning each vehicle must wait its turn to move. Bicycles $(B)$ may move at its turn regardless of whether or not the it is a $b$th timestep.\n",
    "4. Passing is allowable. Cars may pass bicycles if they have a specific neighborhood, described below.\n"
   ]
  },
  {
   "cell_type": "markdown",
   "metadata": {
    "slideshow": {
     "slide_type": "subslide"
    }
   },
   "source": [
    "### Rules\n",
    "___\n",
    "Our rules are fairly involved. This is because vehicles can pass eachother. In addition, there is a special case for intersection nodes on the system.\n",
    "#### These are the basic rules for vehicles $V$ moving forward\n",
    "<img src=presfigs/rules.png>\n",
    "#### These are the dynamics associated with cars passing bicycles\n",
    "<img src=presfigs/passing_rules.png>\n"
   ]
  },
  {
   "cell_type": "code",
   "execution_count": 12,
   "metadata": {
    "slideshow": {
     "slide_type": "skip"
    }
   },
   "outputs": [],
   "source": [
    "# necessary imports\n",
    "import numpy as np\n",
    "import random\n",
    "import matplotlib.pyplot as plt\n",
    "import matplotlib.gridspec as gridspec\n",
    "from matplotlib import colors\n",
    "from matplotlib import rc\n",
    "#rc('font',**{'family':'sans-serif','sans-serif':['Helvetica']})\n",
    "## for Palatino and other serif fonts use:\n",
    "rc('font',**{'family':'serif','serif':['Palatino']})\n",
    "rc('text', usetex=True)\n",
    "\n",
    "import sys, os\n",
    "import imageio\n",
    "from glob import glob\n",
    "\n",
    "from traffic import *"
   ]
  },
  {
   "cell_type": "markdown",
   "metadata": {
    "slideshow": {
     "slide_type": "slide"
    }
   },
   "source": [
    "# Model Parameters and Set Up:\n",
    "\n",
    "Parameters we want to __set__ for a class of runs:\n",
    "   * time - total time to run sys fortime\n",
    "   * mu - time delay for bicycles\n",
    "   * dim - dimensions of the system grid\n",
    "   \n",
    "Our main arguments to __change__ (testing parameters):\n",
    "   * flows - flow rates from each direction\n",
    "       *     these are just the probability of a vehicle appearing at a road in direction $D$ at each timestep\n",
    "       *     one idea is to make this a function of time\n",
    "   * beta - prob. that a veh entering the system is a bicycle\n",
    "   \n",
    " "
   ]
  },
  {
   "cell_type": "markdown",
   "metadata": {
    "slideshow": {
     "slide_type": "slide"
    }
   },
   "source": [
    "<h1><center> Bike March </center></h1>\n",
    "<center>Our first attempt moved every bike in the system on the same timestep (not realistic)</center>"
   ]
  },
  {
   "cell_type": "markdown",
   "metadata": {
    "slideshow": {
     "slide_type": "subslide"
    }
   },
   "source": [
    "<table>\n",
    "<tr>\n",
    "    <td> <img src=\"presfigs/bike_march-0.1.gif\" alt=\"Bike March 0.1\" style=\"width:500px\"> </td>\n",
    "    <td> <img src=\"presfigs/bike_march-0.5.gif\" alt=\"Bike March 0.5\" style=\"width:500px\"> </td>\n",
    "</tr>\n",
    "</table>"
   ]
  },
  {
   "cell_type": "markdown",
   "metadata": {
    "slideshow": {
     "slide_type": "slide"
    }
   },
   "source": [
    "<h3><center> Vermont State Bike Proportion of Bicycle Commuters = 0.006 </center></h3>\n",
    "        <img src=\"trafsim_t-500_br-3_flow-N0.9-S0.1-E0.2-W0.3/figs/traffic_model-b2c-0006.gif\" alt=\"Vermont\" style=\"width:1000px\">"
   ]
  },
  {
   "cell_type": "markdown",
   "metadata": {
    "slideshow": {
     "slide_type": "subslide"
    }
   },
   "source": [
    "<h3><center> Davis, CA Bike Proportion of Bicycle Commuters = 0.166 </center></h3>\n",
    "<img src=\"trafsim_t-500_br-3_flow-N0.9-S0.1-E0.2-W0.3/figs/traffic_model-b2c-0166.gif\" alt=\"San Francisco\" style=\"width:1000px\"> "
   ]
  },
  {
   "cell_type": "markdown",
   "metadata": {
    "slideshow": {
     "slide_type": "slide"
    }
   },
   "source": [
    "<h1><center> Busy Urban Streets </center></h1>"
   ]
  },
  {
   "cell_type": "markdown",
   "metadata": {
    "slideshow": {
     "slide_type": "subslide"
    }
   },
   "source": [
    "<table>\n",
    "<tr>\n",
    "    <td> <center> No Bikes -- beta = 0.00 </center> </td>\n",
    "    <td> <center> SF, CA Bike Prop. -- beta = 0.039 </center> </td>\n",
    "</tr>\n",
    "<tr>\n",
    "    <td> <img src=\"trafsim_t-500_br-3_flow-N0.4-S0.4-E0.4-W0.4/figs/traffic_model-b2c-0000.gif\" alt=\"No Bikes\" style=\"width:700px\"> </td>\n",
    "    <td> <img src=\"trafsim_t-500_br-3_flow-N0.4-S0.4-E0.4-W0.4/figs/traffic_model-b2c-0039.gif\" alt=\"SF\" style=\"width:700px\"> </td>\n",
    "</tr> \n",
    "<tr>\n",
    "    <td> <center> Davis, CA Bike Prop. -- beta = 0.166 </center> </td>\n",
    "    <td> <center> Copenhagen Bike Prop. -- beta = 0.57 </center> </td>\n",
    "</tr>\n",
    "<tr>\n",
    "    <td> <img src=\"trafsim_t-500_br-3_flow-N0.4-S0.4-E0.4-W0.4/figs/traffic_model-b2c-0166.gif\" alt=\"Davis, CA\" style=\"width:700px\"> </td>\n",
    "    <td> <img src=\"trafsim_t-500_br-3_flow-N0.4-S0.4-E0.4-W0.4/figs/traffic_model-b2c-0460.gif\" alt=\"Copenhagen\" style=\"width:700px\"> </td>\n",
    "</tr>\n",
    "</table>"
   ]
  },
  {
   "cell_type": "markdown",
   "metadata": {
    "slideshow": {
     "slide_type": "subslide"
    }
   },
   "source": [
    "<table>\n",
    "<tr>\n",
    "    <td> <center> No Bikes -- beta=0.00 </center> </td>\n",
    "    <td> <center> Vermont Bike Prop. -- beta=0.006 </center> </td>\n",
    "</tr>\n",
    "<tr>\n",
    "    <td> <img src=\"trafsim_t-500_br-3_flow-N0.4-S0.4-E0.4-W0.4/figs/beta_nobikes.png\" alt=\"No Bikes\" style=\"width:700px\"> </td>\n",
    "    <td> <img src=\"trafsim_t-500_br-3_flow-N0.4-S0.4-E0.4-W0.4/figs/beta_vt.png\" alt=\"Vermont\" style=\"width:700px\"> </td>\n",
    "</tr>\n",
    "    <tr>\n",
    "    <td> <center> SF, CA Bike Prop. -- beta = 0.039 </center> </td>\n",
    "    <td> <center> Davis, CA Bike Prop. -- beta = 0.166 </center> </td>\n",
    "</tr>\n",
    "<tr>\n",
    "    <td> <img src=\"trafsim_t-500_br-3_flow-N0.4-S0.4-E0.4-W0.4/figs/beta_sfCA.png\" alt=\"SF\" style=\"width:700px\"> </td>\n",
    "    <td> <img src=\"trafsim_t-500_br-3_flow-N0.4-S0.4-E0.4-W0.4/figs/beta_davisCA.png\" alt=\"Davis\" style=\"width:700px\"> </td>\n",
    "</tr>\n",
    "    <tr>\n",
    "    <td> <center> Copenhagen Bike Prop. -- beta = 0.46 </center> </td>\n",
    "    <td> <center> Amsterdam Bike Prop. -- beta = 0.57 </center> </td>\n",
    "</tr>\n",
    "<tr>\n",
    "    <td> <img src=\"trafsim_t-500_br-3_flow-N0.4-S0.4-E0.4-W0.4/figs/beta_copenhagen.png\" alt=\"Copenhagen\" style=\"width:700px\"> </td>\n",
    "    <td> <img src=\"trafsim_t-500_br-3_flow-N0.4-S0.4-E0.4-W0.4/figs/beta_amsterdam.png\" alt=\"Amsterdam\" style=\"width:700px\"> </td>\n",
    "</tr>\n",
    "</table>"
   ]
  },
  {
   "cell_type": "markdown",
   "metadata": {
    "slideshow": {
     "slide_type": "slide"
    }
   },
   "source": [
    "<h1><center> Possible Next Steps: </center></h1> \n",
    "\n",
    "\n",
    "  <center>1. More types of intersections: 2-way (L), 3-way </center>\n",
    "  <center>2. Time dependent variables, such as flow rates</center>\n",
    "  <center>3. 4-lane roads?</center>\n",
    "  <center>4. Measure frequency and size of pile-ups</center>\n"
   ]
  },
  {
   "cell_type": "code",
   "execution_count": null,
   "metadata": {},
   "outputs": [],
   "source": [
    "..."
   ]
  }
 ],
 "metadata": {
  "celltoolbar": "Slideshow",
  "kernelspec": {
   "display_name": "Python 3",
   "language": "python",
   "name": "python3"
  },
  "language_info": {
   "codemirror_mode": {
    "name": "ipython",
    "version": 3
   },
   "file_extension": ".py",
   "mimetype": "text/x-python",
   "name": "python",
   "nbconvert_exporter": "python",
   "pygments_lexer": "ipython3",
   "version": "3.6.4"
  }
 },
 "nbformat": 4,
 "nbformat_minor": 2
}
